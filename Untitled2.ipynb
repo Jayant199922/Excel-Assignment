{
  "nbformat": 4,
  "nbformat_minor": 0,
  "metadata": {
    "colab": {
      "name": "Untitled2.ipynb",
      "provenance": [],
      "authorship_tag": "ABX9TyP8qcR+ue36jzQSxbeJ0bHS",
      "include_colab_link": true
    },
    "kernelspec": {
      "name": "python3",
      "display_name": "Python 3"
    },
    "language_info": {
      "name": "python"
    }
  },
  "cells": [
    {
      "cell_type": "markdown",
      "metadata": {
        "id": "view-in-github",
        "colab_type": "text"
      },
      "source": [
        "<a href=\"https://colab.research.google.com/github/Jayant199922/Excel-Assignment/blob/main/Untitled2.ipynb\" target=\"_parent\"><img src=\"https://colab.research.google.com/assets/colab-badge.svg\" alt=\"Open In Colab\"/></a>"
      ]
    },
    {
      "cell_type": "code",
      "metadata": {
        "id": "FVv8MzgAbFRT"
      },
      "source": [
        "#NORM CALCULATION\n",
        "import numpy as np\n",
        "from numpy import linalg\n",
        "from numpy import inf"
      ],
      "execution_count": 9,
      "outputs": []
    },
    {
      "cell_type": "code",
      "metadata": {
        "colab": {
          "base_uri": "https://localhost:8080/"
        },
        "id": "La6odM9ObROw",
        "outputId": "2053e4e5-0724-4ceb-c3e2-d3fe21993c52"
      },
      "source": [
        "#L1 NORM\n",
        "a=np.arange(9)\n",
        "a=a.reshape((3,3))\n",
        "print(a)\n",
        "linalg.norm(a,1)"
      ],
      "execution_count": 6,
      "outputs": [
        {
          "output_type": "stream",
          "text": [
            "[[0 1 2]\n",
            " [3 4 5]\n",
            " [6 7 8]]\n"
          ],
          "name": "stdout"
        },
        {
          "output_type": "execute_result",
          "data": {
            "text/plain": [
              "15.0"
            ]
          },
          "metadata": {
            "tags": []
          },
          "execution_count": 6
        }
      ]
    },
    {
      "cell_type": "code",
      "metadata": {
        "colab": {
          "base_uri": "https://localhost:8080/"
        },
        "id": "3g_GxucYceK7",
        "outputId": "27a5f270-5152-4926-9109-27db5a2f14f0"
      },
      "source": [
        "#L infinite\n",
        "b=np.arange(16)-5\n",
        "b=b.reshape((4,4))\n",
        "print(b)\n",
        "linalg.norm(b,inf)"
      ],
      "execution_count": 10,
      "outputs": [
        {
          "output_type": "stream",
          "text": [
            "[[-5 -4 -3 -2]\n",
            " [-1  0  1  2]\n",
            " [ 3  4  5  6]\n",
            " [ 7  8  9 10]]\n"
          ],
          "name": "stdout"
        },
        {
          "output_type": "execute_result",
          "data": {
            "text/plain": [
              "34.0"
            ]
          },
          "metadata": {
            "tags": []
          },
          "execution_count": 10
        }
      ]
    },
    {
      "cell_type": "code",
      "metadata": {
        "colab": {
          "base_uri": "https://localhost:8080/"
        },
        "id": "UWq7u0ZndH5y",
        "outputId": "f2e0882f-0896-4264-f14a-8b1c744259a9"
      },
      "source": [
        "#L Frobenius norm\n",
        "print(b)\n",
        "linalg.norm(b)\n"
      ],
      "execution_count": 11,
      "outputs": [
        {
          "output_type": "stream",
          "text": [
            "[[-5 -4 -3 -2]\n",
            " [-1  0  1  2]\n",
            " [ 3  4  5  6]\n",
            " [ 7  8  9 10]]\n"
          ],
          "name": "stdout"
        },
        {
          "output_type": "execute_result",
          "data": {
            "text/plain": [
              "20.97617696340303"
            ]
          },
          "metadata": {
            "tags": []
          },
          "execution_count": 11
        }
      ]
    },
    {
      "cell_type": "code",
      "metadata": {
        "id": "C0DfCpsOeLGC"
      },
      "source": [
        ""
      ],
      "execution_count": null,
      "outputs": []
    }
  ]
}